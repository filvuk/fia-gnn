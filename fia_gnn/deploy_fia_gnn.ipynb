{
 "cells": [
  {
   "cell_type": "code",
   "execution_count": 1,
   "metadata": {},
   "outputs": [],
   "source": [
    "from rdkit import Chem\n",
    "import tensorflow as tf\n",
    "from fia_gnn_preprocessing import FiaGnnPreprocessor, get_nfp_preprocessor, get_output_signature, get_padding_values\n",
    "\n",
    "# Deactivate RDkit messages\n",
    "from rdkit import RDLogger\n",
    "RDLogger.DisableLog(\"rdApp.*\")"
   ]
  },
  {
   "cell_type": "markdown",
   "metadata": {},
   "source": [
    "# 1) Load models"
   ]
  },
  {
   "cell_type": "code",
   "execution_count": 2,
   "metadata": {},
   "outputs": [],
   "source": [
    "# Load tf models\n",
    "path_to_fia_gas_model = \"fia_gnn_model_gas\"\n",
    "path_to_fia_solv_model = \"fia_gnn_model_solv\"\n",
    "fia_gas_model = tf.keras.models.load_model(path_to_fia_gas_model, compile=False)\n",
    "fia_solv_model = tf.keras.models.load_model(path_to_fia_solv_model, compile=False)\n",
    "\n",
    "# Load nfp preprocessors\n",
    "path_to_fia_gas_preprocessor_json = r\"fia_gnn_model_gas\\preprocessor_fia_gas.json\"\n",
    "path_to_fia_solv_preprocessor_json = r\"fia_gnn_model_solv\\preprocessor_fia_solv.json\"\n",
    "fia_gas_preprocessor = get_nfp_preprocessor(path_to_fia_gas_preprocessor_json)\n",
    "fia_solv_preprocessor = get_nfp_preprocessor(path_to_fia_solv_preprocessor_json)\n",
    "\n",
    "# Generate tf output signature and padding values:\n",
    "# Output signature and padding values of fia_gas and fia_solv preprocessor are equal,\n",
    "# they are generated once for both models\n",
    "output_signature = get_output_signature(fia_gas_preprocessor)\n",
    "padding_values = get_padding_values(fia_gas_preprocessor)"
   ]
  },
  {
   "cell_type": "markdown",
   "metadata": {},
   "source": [
    "# 2) Example molecules"
   ]
  },
  {
   "cell_type": "code",
   "execution_count": 3,
   "metadata": {},
   "outputs": [
    {
     "data": {
      "image/png": "[encoded data removed]",
      "text/plain": [
       "<IPython.core.display.Image object>"
      ]
     },
     "execution_count": 3,
     "metadata": {},
     "output_type": "execute_result"
    }
   ],
   "source": [
    "smiles_list = [\"CB(C)CCOO\", \"C[Al](C)CCO\", \"C[Ga](C)CCS\"]\n",
    "Chem.Draw.MolsToGridImage([Chem.MolFromSmiles(smiles) for smiles in smiles_list])"
   ]
  },
  {
   "cell_type": "markdown",
   "metadata": {},
   "source": [
    "# 3) Predict example molecules"
   ]
  },
  {
   "cell_type": "code",
   "execution_count": 4,
   "metadata": {},
   "outputs": [],
   "source": [
    "# Generate FiaGnnPreprocessor object for each molecule\n",
    "\n",
    "preprocessor_list = []\n",
    "for smiles in smiles_list:\n",
    "    mol = Chem.MolFromSmiles(smiles)\n",
    "    preprocessor_list.append(FiaGnnPreprocessor(mol, fia_gas_preprocessor, fia_solv_preprocessor))"
   ]
  },
  {
   "cell_type": "code",
   "execution_count": 5,
   "metadata": {},
   "outputs": [
    {
     "name": "stdout",
     "output_type": "stream",
     "text": [
      "1/1 [==============================] - 3s 3s/step\n",
      "fia_gas values [kJ/mol]:\n",
      "[[265.97656]\n",
      " [395.8507 ]\n",
      " [308.1448 ]]\n"
     ]
    }
   ],
   "source": [
    "# Generate tf data set and predict fia_gas\n",
    "\n",
    "tf_dataset_fia_gas = (\n",
    "    tf.data.Dataset.from_generator(\n",
    "        lambda: (preprocessor.fia_gas_input for preprocessor in preprocessor_list),\n",
    "        output_signature=output_signature,\n",
    "    )\n",
    "    .padded_batch(batch_size=len(preprocessor_list), padding_values=padding_values)\n",
    "    )\n",
    "fia_gas_prediction = fia_gas_model.predict(tf_dataset_fia_gas)\n",
    "print(\"fia_gas values [kJ/mol]:\")\n",
    "print(fia_gas_prediction)"
   ]
  },
  {
   "cell_type": "code",
   "execution_count": 6,
   "metadata": {},
   "outputs": [
    {
     "name": "stdout",
     "output_type": "stream",
     "text": [
      "1/1 [==============================] - 2s 2s/step\n",
      "fia_solv values [kJ/mol]:\n",
      "[[135.02184]\n",
      " [223.83458]\n",
      " [152.77138]]\n"
     ]
    }
   ],
   "source": [
    "# Generate tf data set and predict fia_solv\n",
    "\n",
    "tf_dataset_fia_solv = (\n",
    "    tf.data.Dataset.from_generator(\n",
    "        lambda: (preprocessor.fia_solv_input for preprocessor in preprocessor_list),\n",
    "        output_signature=output_signature,\n",
    "    )\n",
    "    .padded_batch(batch_size=len(preprocessor_list), padding_values=padding_values)\n",
    "    )\n",
    "fia_solv_prediction = fia_solv_model.predict(tf_dataset_fia_solv)\n",
    "print(\"fia_solv values [kJ/mol]:\")\n",
    "print(fia_solv_prediction)"
   ]
  },
  {
   "cell_type": "markdown",
   "metadata": {},
   "source": [
    "# 4) Check for unknown tokens\n",
    "If unknown atom or bond tokens are passed to the model, predictions can be innacurate"
   ]
  },
  {
   "cell_type": "code",
   "execution_count": 7,
   "metadata": {},
   "outputs": [
    {
     "name": "stdout",
     "output_type": "stream",
     "text": [
      "False\n",
      "False\n",
      "False\n",
      "-> No unknown atom tokens\n"
     ]
    }
   ],
   "source": [
    "for preprocessor in preprocessor_list:\n",
    "    print(preprocessor.unknown_atom_token)\n",
    "print(\"-> No unknown atom tokens\")"
   ]
  },
  {
   "cell_type": "code",
   "execution_count": 8,
   "metadata": {},
   "outputs": [
    {
     "name": "stdout",
     "output_type": "stream",
     "text": [
      "True\n",
      "False\n",
      "False\n",
      "-> At least one unknown bond token in first molecule\n",
      "-> Model does not recognize peroxide bonds (O-O)\n"
     ]
    }
   ],
   "source": [
    "for preprocessor in preprocessor_list:\n",
    "    print(preprocessor.unknown_bond_token)\n",
    "print(\"-> At least one unknown bond token in first molecule\")\n",
    "print(\"-> Model does not recognize peroxide bonds (O-O)\")"
   ]
  }
 ],
 "metadata": {
  "kernelspec": {
   "display_name": "Python 3 (ipykernel)",
   "language": "python",
   "name": "python3"
  },
  "language_info": {
   "codemirror_mode": {
    "name": "ipython",
    "version": 3
   },
   "file_extension": ".py",
   "mimetype": "text/x-python",
   "name": "python",
   "nbconvert_exporter": "python",
   "pygments_lexer": "ipython3",
   "version": "3.12.7"
  }
 },
 "nbformat": 4,
 "nbformat_minor": 4
}
